{
 "cells": [
  {
   "cell_type": "markdown",
   "metadata": {},
   "source": [
    "# COMP-4740 Project 1: Convolutional Neural Network on MNIST Dataset\n",
    "Submitted by: Saffa Alvi, Nour ElKott <br>\n",
    "March 1, 2022 <br>\n",
    "\n",
    "This file contains the source code for our CNN architecture and \n",
    "shows the application of our model to the MNIST dataset."
   ]
  },
  {
   "cell_type": "code",
   "execution_count": 1,
   "metadata": {},
   "outputs": [],
   "source": [
    "import tensorflow as tf\n",
    "import numpy as np"
   ]
  },
  {
   "cell_type": "code",
   "execution_count": 2,
   "metadata": {},
   "outputs": [],
   "source": [
    "# Public API for tf.keras.datasets.mnist namespace - import TensorFlow and MNIST dataset under the Keras API\n",
    "mnist = tf.keras.datasets.mnist # 0-9, 28x28 images, 1 colour channel"
   ]
  },
  {
   "cell_type": "markdown",
   "metadata": {
    "tags": []
   },
   "source": [
    "Separated as train and test, separates the labels/classes and the images.<br>\n",
    "X_train and X_test parts contain greyscale RGB codes (from 0 to 255).<br>\n",
    "Y_train and Y_test parts contain labels from 0 to 9 for the image number."
   ]
  },
  {
   "cell_type": "code",
   "execution_count": 3,
   "metadata": {},
   "outputs": [],
   "source": [
    "(X_train, Y_train), (X_test, Y_test) = mnist.load_data() "
   ]
  },
  {
   "cell_type": "code",
   "execution_count": 4,
   "metadata": {
    "tags": []
   },
   "outputs": [
    {
     "name": "stdout",
     "output_type": "stream",
     "text": [
      "Train dataset size:  (60000, 28, 28)\n",
      "Test dataset size:  (10000, 28, 28)\n"
     ]
    }
   ],
   "source": [
    "print(\"Train dataset size: \", X_train.shape)\n",
    "print(\"Test dataset size: \", X_test.shape)"
   ]
  },
  {
   "cell_type": "code",
   "execution_count": 5,
   "metadata": {
    "tags": []
   },
   "outputs": [
    {
     "data": {
      "image/png": "[encoded data removed]",
      "text/plain": [
       "<Figure size 432x288 with 1 Axes>"
      ]
     },
     "metadata": {
      "needs_background": "light"
     },
     "output_type": "display_data"
    }
   ],
   "source": [
    "# visualize dataset\n",
    "import matplotlib.pyplot as plt\n",
    "plt.imshow(X_train[0])     # display index 0 of training group as an image\n",
    "plt.show()                "
   ]
  },
  {
   "cell_type": "markdown",
   "metadata": {
    "tags": []
   },
   "source": [
    "**Normalize and Reshape the Datasets** <br>"
   ]
  },
  {
   "cell_type": "code",
   "execution_count": 6,
   "metadata": {},
   "outputs": [
    {
     "name": "stdout",
     "output_type": "stream",
     "text": [
      "(10000, 28, 28, 1)\n",
      "(60000, 28, 28, 1)\n"
     ]
    }
   ],
   "source": [
    "X_train = tf.keras.utils.normalize(X_train, axis=1) \n",
    "X_test = tf.keras.utils.normalize(X_test, axis=1)   \n",
    "\n",
    "# need to reshape the data as keras needs 4D datasets, and ours are 3D right now\n",
    "X_train = np.expand_dims(X_train, axis=-1)\n",
    "X_test = np.expand_dims(X_test, axis=-1)\n",
    "\n",
    "# new reshaped dataset\n",
    "print(X_test.shape)\n",
    "print(X_train.shape)"
   ]
  },
  {
   "cell_type": "markdown",
   "metadata": {
    "tags": []
   },
   "source": [
    "**Building the Model** <br>"
   ]
  },
  {
   "cell_type": "code",
   "execution_count": 7,
   "metadata": {
    "tags": []
   },
   "outputs": [
    {
     "name": "stderr",
     "output_type": "stream",
     "text": [
      "2022-02-26 21:36:46.821117: I tensorflow/core/platform/cpu_feature_guard.cc:151] This TensorFlow binary is optimized with oneAPI Deep Neural Network Library (oneDNN) to use the following CPU instructions in performance-critical operations:  AVX2 FMA\n",
      "To enable them in other operations, rebuild TensorFlow with the appropriate compiler flags.\n"
     ]
    },
    {
     "data": {
      "text/plain": [
       "<keras.layers.core.dropout.Dropout at 0x7fa8be68c3d0>"
      ]
     },
     "execution_count": 7,
     "metadata": {},
     "output_type": "execute_result"
    }
   ],
   "source": [
    "# build the model\n",
    "model = tf.keras.models.Sequential() # most common model\n",
    "\n",
    "# add l2 regularization - not used \n",
    "# l2 = tf.keras.regularizers.l2(0.00015)\n",
    "\n",
    "# add the layers\n",
    "\n",
    "# hidden layers\n",
    "model.add(tf.keras.layers.Conv2D(128, (3,3), activation=tf.nn.relu))\n",
    "model.add(tf.keras.layers.MaxPooling2D((2,2)))\n",
    "# add dropout regularization\n",
    "tf.keras.layers.Dropout(0.30)\n",
    "\n",
    "model.add(tf.keras.layers.Conv2D(256, (3,3), activation=tf.nn.relu))\n",
    "model.add(tf.keras.layers.MaxPooling2D((2,2)))\n",
    "# add dropout regularization\n",
    "tf.keras.layers.Dropout(0.40)\n",
    "\n",
    "# flattens out the input layer\n",
    "model.add(tf.keras.layers.Flatten()) \n",
    "\n",
    "# output layer\n",
    "# last dense layer must have 10 neurons as we have 10 classes\n",
    "model.add(tf.keras.layers.Dense(10, activation=tf.nn.softmax))\n",
    "# add dropout regularization\n",
    "tf.keras.layers.Dropout(0.30)"
   ]
  },
  {
   "cell_type": "markdown",
   "metadata": {},
   "source": [
    "**Compile and Fit the Model** <br>"
   ]
  },
  {
   "cell_type": "code",
   "execution_count": 8,
   "metadata": {
    "tags": []
   },
   "outputs": [
    {
     "name": "stdout",
     "output_type": "stream",
     "text": [
      "Epoch 1/3\n",
      "1875/1875 [==============================] - 73s 39ms/step - loss: 0.1146 - accuracy: 0.9646\n",
      "Epoch 2/3\n",
      "1875/1875 [==============================] - 74s 39ms/step - loss: 0.0444 - accuracy: 0.9860\n",
      "Epoch 3/3\n",
      "1875/1875 [==============================] - 77s 41ms/step - loss: 0.0310 - accuracy: 0.9901\n"
     ]
    },
    {
     "data": {
      "text/plain": [
       "<keras.callbacks.History at 0x7fa8c9abc5e0>"
      ]
     },
     "execution_count": 8,
     "metadata": {},
     "output_type": "execute_result"
    }
   ],
   "source": [
    "# add learning rate\n",
    "opt = tf.keras.optimizers.Adam(learning_rate=0.002)\n",
    "model.compile(optimizer=opt, loss='sparse_categorical_crossentropy', metrics=['accuracy'])\n",
    "\n",
    "model.fit(X_train, Y_train, epochs=3) # epoch is the number of passes through the entire training dataset"
   ]
  },
  {
   "cell_type": "markdown",
   "metadata": {},
   "source": [
    "**Calculate Loss and Accuracy using Test Dataset** <br>"
   ]
  },
  {
   "cell_type": "code",
   "execution_count": 9,
   "metadata": {},
   "outputs": [
    {
     "name": "stdout",
     "output_type": "stream",
     "text": [
      "313/313 [==============================] - 4s 11ms/step - loss: 0.0327 - accuracy: 0.9905\n",
      "0.03274731710553169 0.9904999732971191\n"
     ]
    }
   ],
   "source": [
    "# calculate validation loss and accuracy using the test dataset\n",
    "valLoss, valAcc = model.evaluate(X_test, Y_test)\n",
    "print(valLoss, valAcc)"
   ]
  },
  {
   "cell_type": "markdown",
   "metadata": {},
   "source": [
    "# Summary of Model"
   ]
  },
  {
   "cell_type": "code",
   "execution_count": 10,
   "metadata": {
    "tags": []
   },
   "outputs": [
    {
     "name": "stdout",
     "output_type": "stream",
     "text": [
      "Model: \"sequential\"\n",
      "_________________________________________________________________\n",
      " Layer (type)                Output Shape              Param #   \n",
      "=================================================================\n",
      " conv2d (Conv2D)             (None, 26, 26, 128)       1280      \n",
      "                                                                 \n",
      " max_pooling2d (MaxPooling2D  (None, 13, 13, 128)      0         \n",
      " )                                                               \n",
      "                                                                 \n",
      " conv2d_1 (Conv2D)           (None, 11, 11, 256)       295168    \n",
      "                                                                 \n",
      " max_pooling2d_1 (MaxPooling  (None, 5, 5, 256)        0         \n",
      " 2D)                                                             \n",
      "                                                                 \n",
      " flatten (Flatten)           (None, 6400)              0         \n",
      "                                                                 \n",
      " dense (Dense)               (None, 10)                64010     \n",
      "                                                                 \n",
      "=================================================================\n",
      "Total params: 360,458\n",
      "Trainable params: 360,458\n",
      "Non-trainable params: 0\n",
      "_________________________________________________________________\n"
     ]
    }
   ],
   "source": [
    "model.summary()"
   ]
  },
  {
   "cell_type": "code",
   "execution_count": 11,
   "metadata": {
    "tags": []
   },
   "outputs": [
    {
     "name": "stdout",
     "output_type": "stream",
     "text": [
      "WARNING:tensorflow:Layers in a Sequential model should only have a single input tensor, but we receive a <class 'tuple'> input: (<tf.Tensor 'IteratorGetNext:0' shape=(None, 28, 28, 1) dtype=float32>,)\n",
      "Consider rewriting this model with the Functional API.\n",
      "[[1.7419692e-10 7.5373688e-14 4.6352636e-08 ... 1.0000000e+00\n",
      "  4.5959113e-12 5.3855648e-10]\n",
      " [2.7883198e-06 1.5533486e-07 9.9999440e-01 ... 6.3918293e-08\n",
      "  4.8302127e-07 1.2860167e-10]\n",
      " [1.9553241e-09 9.9997103e-01 5.9214109e-09 ... 1.8494620e-05\n",
      "  1.7250861e-06 1.8249558e-07]\n",
      " ...\n",
      " [1.9180741e-14 3.0649341e-10 1.4562883e-14 ... 2.4345326e-08\n",
      "  1.3495490e-07 5.2862902e-08]\n",
      " [1.0851271e-10 5.2889373e-16 2.6607657e-11 ... 1.0692882e-14\n",
      "  5.9764449e-07 3.7437529e-11]\n",
      " [2.3907159e-08 1.3756509e-12 1.8115630e-08 ... 4.6485368e-14\n",
      "  1.5944741e-09 1.0364394e-11]]\n"
     ]
    }
   ],
   "source": [
    "predictions = model.predict([X_test])\n",
    "print(predictions) # prints the probability distributions"
   ]
  },
  {
   "cell_type": "markdown",
   "metadata": {},
   "source": [
    "## Show the handwritten digit and the model prediction"
   ]
  },
  {
   "cell_type": "code",
   "execution_count": null,
   "metadata": {},
   "outputs": [
    {
     "data": {
      "image/png": "[encoded data removed]",
      "text/plain": [
       "<Figure size 432x288 with 1 Axes>"
      ]
     },
     "metadata": {
      "needs_background": "light"
     },
     "output_type": "display_data"
    },
    {
     "name": "stdout",
     "output_type": "stream",
     "text": [
      "Model Prediction:  0\n"
     ]
    }
   ],
   "source": [
    "import random\n",
    "\n",
    "w, x, y, z = X_test.shape\n",
    "\n",
    "while(1):\n",
    "    \n",
    "    # choose random sample from test dataset\n",
    "    num1 = random.randint(0, x)\n",
    "    \n",
    "    # show sample chosen\n",
    "    plt.imshow(X_test[num1])\n",
    "    plt.show()\n",
    "    \n",
    "    # show model prediction\n",
    "    print(\"Model Prediction: \", np.argmax(predictions[num1]))\n",
    "    \n",
    "    # Pause when 'q' is entered\n",
    "    cont = input('Paused - press ENTER to continue, q to exit: ')\n",
    "    if cont == 'q':\n",
    "        break"
   ]
  }
 ],
 "metadata": {
  "kernelspec": {
   "display_name": "Python 3.7 (tensorflow)",
   "language": "python",
   "name": "tensorflow"
  },
  "language_info": {
   "codemirror_mode": {
    "name": "ipython",
    "version": 3
   },
   "file_extension": ".py",
   "mimetype": "text/x-python",
   "name": "python",
   "nbconvert_exporter": "python",
   "pygments_lexer": "ipython3",
   "version": "3.8.11"
  }
 },
 "nbformat": 4,
 "nbformat_minor": 5
}
